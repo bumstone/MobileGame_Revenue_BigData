{
 "cells": [
  {
   "cell_type": "markdown",
   "id": "52f32982",
   "metadata": {},
   "source": [
    "## 실험 환경 정보"
   ]
  },
  {
   "cell_type": "code",
   "execution_count": 14,
   "id": "1296a09e",
   "metadata": {},
   "outputs": [
    {
     "name": "stdout",
     "output_type": "stream",
     "text": [
      "===== Environment Info =====\n",
      "Pandas version: 2.2.3\n",
      "Numpy version: 1.23.5\n",
      "Matplotlib version: 3.10.3\n",
      "==========================\n"
     ]
    }
   ],
   "source": [
    "import pandas as pd\n",
    "import numpy as np\n",
    "import matplotlib\n",
    "import matplotlib.pyplot as plt\n",
    "\n",
    "print(\"===== Environment Info =====\")\n",
    "print(\"Pandas version:\", pd.__version__)\n",
    "print(\"Numpy version:\", np.__version__)\n",
    "print(\"Matplotlib version:\", matplotlib.__version__)\n",
    "print(\"==========================\")"
   ]
  },
  {
   "cell_type": "markdown",
   "id": "b6aee3b4",
   "metadata": {},
   "source": [
    "## 실험 코드"
   ]
  },
  {
   "cell_type": "code",
   "execution_count": 2,
   "id": "9c607619",
   "metadata": {},
   "outputs": [],
   "source": [
    "\n",
    "# 1. CSV 불러오기 (세미콜론 구분자 사용)\n",
    "ab_test_df = pd.read_csv('ab_test.csv', sep=';')\n",
    "auth_data_df = pd.read_csv('auth_data.csv', sep=';')\n",
    "reg_data_df = pd.read_csv('reg_data.csv', sep=';')\n",
    "\n",
    "# 2. timestamp 컬럼을 datetime 형식으로 변환\n",
    "auth_data_df['auth_ts'] = pd.to_datetime(auth_data_df['auth_ts'], unit='s')\n",
    "reg_data_df['reg_ts'] = pd.to_datetime(reg_data_df['reg_ts'], unit='s')\n",
    "\n",
    "# 3. 로그인 요약 정보 생성\n",
    "login_summary = auth_data_df.groupby('uid').agg(\n",
    "    login_count=('auth_ts', 'count'),\n",
    "    first_login=('auth_ts', 'min'),\n",
    "    last_login=('auth_ts', 'max')\n",
    ").reset_index()\n",
    "\n",
    "# 4. 컬럼명 정리\n",
    "reg_data_df.rename(columns={'reg_ts': 'reg_date'}, inplace=True)\n",
    "\n",
    "# 5. 데이터 병합\n",
    "merged_df = ab_test_df.merge(reg_data_df, left_on='user_id', right_on='uid', how='left')\n",
    "merged_df = merged_df.merge(login_summary, left_on='user_id', right_on='uid', how='left')\n",
    "merged_df.drop(columns=['uid_x', 'uid_y'], inplace=True)\n",
    "\n",
    "# 6. 컬럼 순서 정리\n",
    "merged_df = merged_df[['user_id', 'testgroup', 'revenue', 'reg_date', 'login_count', 'first_login', 'last_login']]\n",
    "\n",
    "# 7. 저장\n",
    "merged_df.to_csv('merged_abtest_data.csv', index=False)\n"
   ]
  },
  {
   "cell_type": "code",
   "execution_count": 11,
   "id": "b2102c67",
   "metadata": {},
   "outputs": [
    {
     "data": {
      "text/plain": [
       "testgroup\n",
       "b    202667\n",
       "a    202103\n",
       "Name: count, dtype: int64"
      ]
     },
     "execution_count": 11,
     "metadata": {},
     "output_type": "execute_result"
    }
   ],
   "source": [
    "merged_df = pd.read_csv(\"merged_abtest_data.csv\", parse_dates=[\"reg_date\", \"first_login\", \"last_login\"])\n",
    "\n",
    "# A/B 테스트 그룹별 유저 수\n",
    "group_counts = merged_df[\"testgroup\"].value_counts()\n",
    "group_counts"
   ]
  },
  {
   "cell_type": "code",
   "execution_count": 12,
   "id": "f6304e80",
   "metadata": {},
   "outputs": [
    {
     "data": {
      "text/plain": [
       "testgroup\n",
       "a    25.413720\n",
       "b    26.751287\n",
       "Name: revenue, dtype: float64"
      ]
     },
     "execution_count": 12,
     "metadata": {},
     "output_type": "execute_result"
    }
   ],
   "source": [
    "# A/B 그룹별 평균 매출\n",
    "avg_revenue_by_group = merged_df.groupby(\"testgroup\")[\"revenue\"].mean()\n",
    "avg_revenue_by_group"
   ]
  },
  {
   "cell_type": "code",
   "execution_count": 13,
   "id": "40d1867e",
   "metadata": {},
   "outputs": [
    {
     "data": {
      "text/plain": [
       "0.009222521431924303"
      ]
     },
     "execution_count": 13,
     "metadata": {},
     "output_type": "execute_result"
    }
   ],
   "source": [
    "# 매출 발생 유저 비율\n",
    "nonzero_revenue_ratio = (merged_df[\"revenue\"] > 0).mean()\n",
    "nonzero_revenue_ratio"
   ]
  },
  {
   "cell_type": "code",
   "execution_count": 10,
   "id": "4973d5e5",
   "metadata": {},
   "outputs": [
    {
     "data": {
      "text/plain": [
       "reg_date\n",
       "1998-11        1\n",
       "1999-07        1\n",
       "2000-01        1\n",
       "2000-05        1\n",
       "2000-09        1\n",
       "           ...  \n",
       "2018-09    14645\n",
       "2018-10    15911\n",
       "2018-11    16189\n",
       "2018-12    17590\n",
       "2019-01    10620\n",
       "Freq: M, Name: count, Length: 215, dtype: int64"
      ]
     },
     "execution_count": 10,
     "metadata": {},
     "output_type": "execute_result"
    }
   ],
   "source": [
    "# 월별 가입자 수\n",
    "reg_month_dist = merged_df[\"reg_date\"].dt.to_period(\"M\").value_counts().sort_index()\n",
    "reg_month_dist"
   ]
  },
  {
   "cell_type": "code",
   "execution_count": 9,
   "id": "705bf681",
   "metadata": {},
   "outputs": [
    {
     "data": {
      "text/plain": [
       "login_count\n",
       "1.0     27.060254\n",
       "2.0     13.459859\n",
       "3.0     26.772001\n",
       "4.0     40.226326\n",
       "5.0     32.069203\n",
       "6.0     24.991214\n",
       "7.0     19.799855\n",
       "8.0     21.801879\n",
       "9.0     30.823984\n",
       "10.0    28.031599\n",
       "Name: revenue, dtype: float64"
      ]
     },
     "execution_count": 9,
     "metadata": {},
     "output_type": "execute_result"
    }
   ],
   "source": [
    "# 로그인 횟수별 평균 매출 (상위 10)\n",
    "revenue_by_login_count = merged_df.groupby(\"login_count\")[\"revenue\"].mean().sort_index().head(10)\n",
    "revenue_by_login_count.head(10)"
   ]
  }
 ],
 "metadata": {
  "kernelspec": {
   "display_name": "tfenv",
   "language": "python",
   "name": "python3"
  },
  "language_info": {
   "codemirror_mode": {
    "name": "ipython",
    "version": 3
   },
   "file_extension": ".py",
   "mimetype": "text/x-python",
   "name": "python",
   "nbconvert_exporter": "python",
   "pygments_lexer": "ipython3",
   "version": "3.10.16"
  }
 },
 "nbformat": 4,
 "nbformat_minor": 5
}
